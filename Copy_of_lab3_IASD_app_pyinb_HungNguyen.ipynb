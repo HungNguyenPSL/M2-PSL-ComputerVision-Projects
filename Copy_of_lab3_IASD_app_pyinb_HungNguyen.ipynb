{
  "nbformat": 4,
  "nbformat_minor": 0,
  "metadata": {
    "colab": {
      "provenance": [],
      "toc_visible": true
    },
    "kernelspec": {
      "name": "python3",
      "display_name": "Python 3"
    },
    "language_info": {
      "name": "python"
    },
    "accelerator": "GPU",
    "gpuClass": "standard"
  },
  "cells": [
    {
      "cell_type": "markdown",
      "source": [
        "# Dauphine PSL - Master IASD app\n",
        "\n",
        "# Validation and Interpretability (partie 1)\n",
        "\n",
        "- Lab duration: 1.30h\n",
        "\n",
        "- Goals\n",
        "  - understanding the importance of choosing the rights metrics for evaluation\n",
        "  - implementing GradCAM for visual model interpretation\n",
        "\n",
        "- Tools\n",
        "  - `tensorboard` ([documentation](https://www.tensorflow.org/tensorboard?hl=fr)) -> monitoring training\n",
        "  - `torchmetrics` ([documentation](https://torchmetrics.readthedocs.io/en/stable/)) -> model evaluation"
      ],
      "metadata": {
        "id": "JK8aKL_3iABa"
      }
    },
    {
      "cell_type": "code",
      "execution_count": 1,
      "metadata": {
        "id": "ZSURiklkPyJE",
        "colab": {
          "base_uri": "https://localhost:8080/"
        },
        "outputId": "ccc58115-5c91-438d-8c56-b41f4b751c52"
      },
      "outputs": [
        {
          "output_type": "execute_result",
          "data": {
            "text/plain": [
              "device(type='cuda')"
            ]
          },
          "metadata": {},
          "execution_count": 1
        }
      ],
      "source": [
        "import torch\n",
        "import torch.nn as nn\n",
        "import torch.nn.functional as F\n",
        "import torch.optim as optim\n",
        "import torchvision\n",
        "from torchvision import datasets, transforms\n",
        "\n",
        "import matplotlib.pyplot as plt\n",
        "import numpy as np\n",
        "import pandas as pd\n",
        "import seaborn as sns\n",
        "from sklearn.metrics import confusion_matrix\n",
        "\n",
        "device = torch.device(\"cuda\") if torch.cuda.is_available else \"cpu\"\n",
        "device"
      ]
    },
    {
      "cell_type": "markdown",
      "source": [
        "## Download dataset\n",
        "\n",
        "In this part, we will use an imbalances version of the CIFAR dataset that is called `CIFAR10-LT`, for CIFAR-10 long tail. </br>\n",
        "This dataset is imbalanced, it means that all the classes are not equally represented within the training set. </br>\n",
        "Run the next cell for cloning the CIFAR10-LT associated github repository."
      ],
      "metadata": {
        "id": "SFpN9DVJ4jJy"
      }
    },
    {
      "cell_type": "code",
      "source": [
        "import sys\n",
        "\n",
        "!git clone https://github.com/dvlab-research/MiSLAS.git\n",
        "\n",
        "sys.path.append('./MiSLAS')"
      ],
      "metadata": {
        "colab": {
          "base_uri": "https://localhost:8080/"
        },
        "id": "kU14aR794mKa",
        "outputId": "0186716e-1a53-45d5-8e5e-3f8b2ab6fd2f"
      },
      "execution_count": 2,
      "outputs": [
        {
          "output_type": "stream",
          "name": "stdout",
          "text": [
            "Cloning into 'MiSLAS'...\n",
            "remote: Enumerating objects: 105, done.\u001b[K\n",
            "remote: Counting objects: 100% (38/38), done.\u001b[K\n",
            "remote: Compressing objects: 100% (17/17), done.\u001b[K\n",
            "remote: Total 105 (delta 25), reused 21 (delta 21), pack-reused 67\u001b[K\n",
            "Receiving objects: 100% (105/105), 14.58 MiB | 8.09 MiB/s, done.\n",
            "Resolving deltas: 100% (38/38), done.\n"
          ]
        }
      ]
    },
    {
      "cell_type": "markdown",
      "source": [
        "Once the repository is cloned, we can import a `CIFAR10_LT` object and from this object, we create:\n",
        "- `train_loader`: training loader associated to imbalanced version of CIFAR-10\n",
        "- `validation_loader`: classic loader of the CIFAR-10 dataset (balanced)\n",
        "- `classes`: a list with the class names"
      ],
      "metadata": {
        "id": "yBCU-RXklaVT"
      }
    },
    {
      "cell_type": "code",
      "source": [
        "from datasets.cifar10 import CIFAR10_LT\n",
        "\n",
        "\n",
        "cifar_lt = CIFAR10_LT(distributed=False)\n",
        "\n",
        "classes = cifar_lt.train_balance.dataset.classes\n",
        "\n",
        "train_loader = cifar_lt.train_instance\n",
        "validation_loader = cifar_lt.eval"
      ],
      "metadata": {
        "colab": {
          "base_uri": "https://localhost:8080/"
        },
        "id": "QRYwBsab5Drv",
        "outputId": "3a70d1c6-f234-4724-b242-40fbb055c677"
      },
      "execution_count": 3,
      "outputs": [
        {
          "output_type": "stream",
          "name": "stdout",
          "text": [
            "Downloading https://www.cs.toronto.edu/~kriz/cifar-10-python.tar.gz to ./data/cifar10/cifar-10-python.tar.gz\n"
          ]
        },
        {
          "output_type": "stream",
          "name": "stderr",
          "text": [
            "100%|██████████| 170498071/170498071 [00:01<00:00, 98176644.63it/s] \n"
          ]
        },
        {
          "output_type": "stream",
          "name": "stdout",
          "text": [
            "Extracting ./data/cifar10/cifar-10-python.tar.gz to ./data/cifar10\n",
            "Files already downloaded and verified\n"
          ]
        },
        {
          "output_type": "stream",
          "name": "stderr",
          "text": [
            "/usr/local/lib/python3.10/dist-packages/torch/utils/data/dataloader.py:558: UserWarning: This DataLoader will create 40 worker processes in total. Our suggested max number of worker in current system is 2, which is smaller than what this DataLoader is going to create. Please be aware that excessive worker creation might get DataLoader running slow or even freeze, lower the worker number to avoid potential slowness/freeze if necessary.\n",
            "  warnings.warn(_create_warning_msg(\n"
          ]
        }
      ]
    },
    {
      "cell_type": "code",
      "source": [
        "len(cifar_lt.train_instance.dataset)"
      ],
      "metadata": {
        "colab": {
          "base_uri": "https://localhost:8080/"
        },
        "id": "hsukIw2J-hv2",
        "outputId": "3626f45c-b1ff-460e-925b-bbf3b6bf34e1"
      },
      "execution_count": null,
      "outputs": [
        {
          "output_type": "execute_result",
          "data": {
            "text/plain": [
              "12406"
            ]
          },
          "metadata": {},
          "execution_count": 4
        }
      ]
    },
    {
      "cell_type": "markdown",
      "source": [
        "The following cell displays how the CIFAR-10 dataset is balanced"
      ],
      "metadata": {
        "id": "vskjKRJjmOyL"
      }
    },
    {
      "cell_type": "code",
      "source": [
        "for class_, num_ in zip(classes,cifar_lt.cls_num_list):\n",
        "  print(f\"Class: {class_} contains {num_} samples\")\n",
        "\n",
        "plt.figure(figsize=(10,5))\n",
        "plt.bar(classes, cifar_lt.cls_num_list)\n",
        "plt.show()"
      ],
      "metadata": {
        "id": "jq8eLaj65lzZ"
      },
      "execution_count": null,
      "outputs": []
    },
    {
      "cell_type": "markdown",
      "source": [
        "Hence, you can see how much the dataset is imbalanced"
      ],
      "metadata": {
        "id": "fJ9mrjSRnHXN"
      }
    },
    {
      "cell_type": "markdown",
      "source": [
        "### Training a model on an imbalance dataset"
      ],
      "metadata": {
        "id": "W6o5gxm1oy62"
      }
    },
    {
      "cell_type": "markdown",
      "source": [
        "🛠 **EXERCICE :** Using transfer learning, import a `resnet18` pretrained model and train it for a classification task on the CIFAR10-LT dataset, using exactly the same asumpty than in lab2.\n",
        "\n",
        "💡 Hint\n",
        "- use the pre-training weights as an initialization\n",
        "- use the `train` and `validate` function used in the previous lab session\n",
        "- train the model on 5 epochs\n",
        "- using a SGD `optimizer`\n",
        "- and a `CrossEntropyLoss` criterion\n",
        "- Do not forget to monitor you accuracy and losses using `TensorBoard`\n"
      ],
      "metadata": {
        "id": "yPObON9UnPui"
      }
    },
    {
      "cell_type": "code",
      "source": [
        "import torch.optim as optim\n",
        "\n",
        "def train(model, loader, epoch, optimizer, log_interval=200, writer=None):\n",
        "    model.train()\n",
        "    running_loss = 0.0\n",
        "    correct = 0\n",
        "    total = 0\n",
        "    for batch_idx, (images, labels) in enumerate(loader):\n",
        "        images, labels = images.to(device), labels.to(device)\n",
        "        optimizer.zero_grad()\n",
        "        outputs = model(images)\n",
        "        loss = criterion(outputs, labels)\n",
        "        loss.backward()\n",
        "        optimizer.step()\n",
        "        running_loss += loss.item()\n",
        "        _, predicted = torch.max(outputs, 1)\n",
        "        total += labels.size(0)\n",
        "        correct += (predicted == labels).sum().item()\n",
        "        if batch_idx % log_interval == 0:\n",
        "            print(f\"Train Epoch: {epoch} [{batch_idx * len(images)}/{len(loader.dataset)} \"\n",
        "                  f\"({100. * batch_idx / len(loader):.0f}%)]\\tLoss: {loss.item():.6f}\")\n",
        "    epoch_loss = running_loss / len(loader)\n",
        "    epoch_accuracy = 100 * correct / total\n",
        "    return epoch_loss\n",
        "\n",
        "@torch.no_grad()\n",
        "def validate(model, loader, loss_vector, accuracy_vector, step=\"Validation\", writer=None):\n",
        "    model.eval()\n",
        "    val_loss = 0.0\n",
        "    correct = 0\n",
        "    total = 0\n",
        "    for images, labels in loader:\n",
        "        images, labels = images.to(device), labels.to(device)\n",
        "        outputs = model(images)\n",
        "        loss = criterion(outputs, labels)\n",
        "        val_loss += loss.item()\n",
        "        _, predicted = torch.max(outputs, 1)\n",
        "        total += labels.size(0)\n",
        "        correct += (predicted == labels).sum().item()\n",
        "    accuracy = 100 * correct / total\n",
        "    val_loss /= len(loader)\n",
        "    print(f'{step} loss: {val_loss:.6f}, Accuracy: {accuracy:.2f}%')\n",
        "    if writer:\n",
        "        writer.add_scalar(f'{step} loss', val_loss)\n",
        "        writer.add_scalar(f'{step} accuracy', accuracy)\n",
        "    loss_vector.append(val_loss)\n",
        "    accuracy_vector.append(accuracy)\n",
        "    return val_loss, accuracy\n"
      ],
      "metadata": {
        "id": "4ZRwyxeluLcj"
      },
      "execution_count": 4,
      "outputs": []
    },
    {
      "cell_type": "code",
      "source": [
        "from torchvision.models import resnet18\n",
        "\n",
        "num_classes = len(classes)\n",
        "\n",
        "model = resnet18(pretrained=True)\n",
        "\n",
        "num_features = model.fc.in_features\n",
        "\n",
        "model.fc = nn.Sequential(\n",
        "        nn.Linear(num_features, 256),\n",
        "        nn.ReLU(),\n",
        "        nn.Dropout(0.4),\n",
        "        nn.Linear(256, num_classes)\n",
        ")"
      ],
      "metadata": {
        "colab": {
          "base_uri": "https://localhost:8080/"
        },
        "id": "RicyUzbk6ypk",
        "outputId": "7c9c9424-776d-4201-c956-8a64d06bbf93"
      },
      "execution_count": 32,
      "outputs": [
        {
          "output_type": "stream",
          "name": "stderr",
          "text": [
            "/usr/local/lib/python3.10/dist-packages/torchvision/models/_utils.py:208: UserWarning: The parameter 'pretrained' is deprecated since 0.13 and may be removed in the future, please use 'weights' instead.\n",
            "  warnings.warn(\n",
            "/usr/local/lib/python3.10/dist-packages/torchvision/models/_utils.py:223: UserWarning: Arguments other than a weight enum or `None` for 'weights' are deprecated since 0.13 and may be removed in the future. The current behavior is equivalent to passing `weights=ResNet18_Weights.IMAGENET1K_V1`. You can also use `weights=ResNet18_Weights.DEFAULT` to get the most up-to-date weights.\n",
            "  warnings.warn(msg)\n"
          ]
        }
      ]
    },
    {
      "cell_type": "code",
      "source": [
        "print(model)"
      ],
      "metadata": {
        "colab": {
          "base_uri": "https://localhost:8080/"
        },
        "id": "Odb9sQjWuRCa",
        "outputId": "f62ad9a4-c108-4735-e416-c77ca062d0c6"
      },
      "execution_count": null,
      "outputs": [
        {
          "output_type": "stream",
          "name": "stdout",
          "text": [
            "ResNet(\n",
            "  (conv1): Conv2d(3, 64, kernel_size=(7, 7), stride=(2, 2), padding=(3, 3), bias=False)\n",
            "  (bn1): BatchNorm2d(64, eps=1e-05, momentum=0.1, affine=True, track_running_stats=True)\n",
            "  (relu): ReLU(inplace=True)\n",
            "  (maxpool): MaxPool2d(kernel_size=3, stride=2, padding=1, dilation=1, ceil_mode=False)\n",
            "  (layer1): Sequential(\n",
            "    (0): BasicBlock(\n",
            "      (conv1): Conv2d(64, 64, kernel_size=(3, 3), stride=(1, 1), padding=(1, 1), bias=False)\n",
            "      (bn1): BatchNorm2d(64, eps=1e-05, momentum=0.1, affine=True, track_running_stats=True)\n",
            "      (relu): ReLU(inplace=True)\n",
            "      (conv2): Conv2d(64, 64, kernel_size=(3, 3), stride=(1, 1), padding=(1, 1), bias=False)\n",
            "      (bn2): BatchNorm2d(64, eps=1e-05, momentum=0.1, affine=True, track_running_stats=True)\n",
            "    )\n",
            "    (1): BasicBlock(\n",
            "      (conv1): Conv2d(64, 64, kernel_size=(3, 3), stride=(1, 1), padding=(1, 1), bias=False)\n",
            "      (bn1): BatchNorm2d(64, eps=1e-05, momentum=0.1, affine=True, track_running_stats=True)\n",
            "      (relu): ReLU(inplace=True)\n",
            "      (conv2): Conv2d(64, 64, kernel_size=(3, 3), stride=(1, 1), padding=(1, 1), bias=False)\n",
            "      (bn2): BatchNorm2d(64, eps=1e-05, momentum=0.1, affine=True, track_running_stats=True)\n",
            "    )\n",
            "  )\n",
            "  (layer2): Sequential(\n",
            "    (0): BasicBlock(\n",
            "      (conv1): Conv2d(64, 128, kernel_size=(3, 3), stride=(2, 2), padding=(1, 1), bias=False)\n",
            "      (bn1): BatchNorm2d(128, eps=1e-05, momentum=0.1, affine=True, track_running_stats=True)\n",
            "      (relu): ReLU(inplace=True)\n",
            "      (conv2): Conv2d(128, 128, kernel_size=(3, 3), stride=(1, 1), padding=(1, 1), bias=False)\n",
            "      (bn2): BatchNorm2d(128, eps=1e-05, momentum=0.1, affine=True, track_running_stats=True)\n",
            "      (downsample): Sequential(\n",
            "        (0): Conv2d(64, 128, kernel_size=(1, 1), stride=(2, 2), bias=False)\n",
            "        (1): BatchNorm2d(128, eps=1e-05, momentum=0.1, affine=True, track_running_stats=True)\n",
            "      )\n",
            "    )\n",
            "    (1): BasicBlock(\n",
            "      (conv1): Conv2d(128, 128, kernel_size=(3, 3), stride=(1, 1), padding=(1, 1), bias=False)\n",
            "      (bn1): BatchNorm2d(128, eps=1e-05, momentum=0.1, affine=True, track_running_stats=True)\n",
            "      (relu): ReLU(inplace=True)\n",
            "      (conv2): Conv2d(128, 128, kernel_size=(3, 3), stride=(1, 1), padding=(1, 1), bias=False)\n",
            "      (bn2): BatchNorm2d(128, eps=1e-05, momentum=0.1, affine=True, track_running_stats=True)\n",
            "    )\n",
            "  )\n",
            "  (layer3): Sequential(\n",
            "    (0): BasicBlock(\n",
            "      (conv1): Conv2d(128, 256, kernel_size=(3, 3), stride=(2, 2), padding=(1, 1), bias=False)\n",
            "      (bn1): BatchNorm2d(256, eps=1e-05, momentum=0.1, affine=True, track_running_stats=True)\n",
            "      (relu): ReLU(inplace=True)\n",
            "      (conv2): Conv2d(256, 256, kernel_size=(3, 3), stride=(1, 1), padding=(1, 1), bias=False)\n",
            "      (bn2): BatchNorm2d(256, eps=1e-05, momentum=0.1, affine=True, track_running_stats=True)\n",
            "      (downsample): Sequential(\n",
            "        (0): Conv2d(128, 256, kernel_size=(1, 1), stride=(2, 2), bias=False)\n",
            "        (1): BatchNorm2d(256, eps=1e-05, momentum=0.1, affine=True, track_running_stats=True)\n",
            "      )\n",
            "    )\n",
            "    (1): BasicBlock(\n",
            "      (conv1): Conv2d(256, 256, kernel_size=(3, 3), stride=(1, 1), padding=(1, 1), bias=False)\n",
            "      (bn1): BatchNorm2d(256, eps=1e-05, momentum=0.1, affine=True, track_running_stats=True)\n",
            "      (relu): ReLU(inplace=True)\n",
            "      (conv2): Conv2d(256, 256, kernel_size=(3, 3), stride=(1, 1), padding=(1, 1), bias=False)\n",
            "      (bn2): BatchNorm2d(256, eps=1e-05, momentum=0.1, affine=True, track_running_stats=True)\n",
            "    )\n",
            "  )\n",
            "  (layer4): Sequential(\n",
            "    (0): BasicBlock(\n",
            "      (conv1): Conv2d(256, 512, kernel_size=(3, 3), stride=(2, 2), padding=(1, 1), bias=False)\n",
            "      (bn1): BatchNorm2d(512, eps=1e-05, momentum=0.1, affine=True, track_running_stats=True)\n",
            "      (relu): ReLU(inplace=True)\n",
            "      (conv2): Conv2d(512, 512, kernel_size=(3, 3), stride=(1, 1), padding=(1, 1), bias=False)\n",
            "      (bn2): BatchNorm2d(512, eps=1e-05, momentum=0.1, affine=True, track_running_stats=True)\n",
            "      (downsample): Sequential(\n",
            "        (0): Conv2d(256, 512, kernel_size=(1, 1), stride=(2, 2), bias=False)\n",
            "        (1): BatchNorm2d(512, eps=1e-05, momentum=0.1, affine=True, track_running_stats=True)\n",
            "      )\n",
            "    )\n",
            "    (1): BasicBlock(\n",
            "      (conv1): Conv2d(512, 512, kernel_size=(3, 3), stride=(1, 1), padding=(1, 1), bias=False)\n",
            "      (bn1): BatchNorm2d(512, eps=1e-05, momentum=0.1, affine=True, track_running_stats=True)\n",
            "      (relu): ReLU(inplace=True)\n",
            "      (conv2): Conv2d(512, 512, kernel_size=(3, 3), stride=(1, 1), padding=(1, 1), bias=False)\n",
            "      (bn2): BatchNorm2d(512, eps=1e-05, momentum=0.1, affine=True, track_running_stats=True)\n",
            "    )\n",
            "  )\n",
            "  (avgpool): AdaptiveAvgPool2d(output_size=(1, 1))\n",
            "  (fc): Sequential(\n",
            "    (0): Linear(in_features=512, out_features=256, bias=True)\n",
            "    (1): ReLU()\n",
            "    (2): Dropout(p=0.4, inplace=False)\n",
            "    (3): Linear(in_features=256, out_features=10, bias=True)\n",
            "  )\n",
            ")\n"
          ]
        }
      ]
    },
    {
      "cell_type": "code",
      "source": [
        "%load_ext tensorboard"
      ],
      "metadata": {
        "id": "Brue-6Zn7Kxn"
      },
      "execution_count": 6,
      "outputs": []
    },
    {
      "cell_type": "code",
      "source": [
        "%tensorboard --logdir runs"
      ],
      "metadata": {
        "id": "xJrchVLH7Hue"
      },
      "execution_count": null,
      "outputs": []
    },
    {
      "cell_type": "code",
      "source": [
        "%%time\n",
        "import torch\n",
        "from torch.utils.tensorboard import SummaryWriter\n",
        "\n",
        "writer = SummaryWriter(\"runs/cifat-lt-acc\")\n",
        "\n",
        "optimizer = optim.SGD(model.parameters(), lr=0.05, momentum=0.9)\n",
        "epochs = 5\n",
        "\n",
        "model = model.to(device)\n",
        "\n",
        "criterion = nn.CrossEntropyLoss()\n",
        "\n",
        "loss_training, acc_training = [], []\n",
        "loss_validation, acc_validation = [], []\n",
        "\n",
        "for epoch in range(1, epochs + 1):\n",
        "    train(model,train_loader, epoch, optimizer, writer=writer)\n",
        "\n",
        "    validate(model, train_loader, loss_training, acc_training, \"Training\", writer=writer)\n",
        "    validate(model, validation_loader, loss_validation, acc_validation, \"Validation\", writer=writer)\n"
      ],
      "metadata": {
        "id": "PEtSOCEU6ysM"
      },
      "execution_count": null,
      "outputs": []
    },
    {
      "cell_type": "markdown",
      "source": [
        "Once the training is done, you can see that the model does not perform well\n",
        "- Accuracy is increasing for training set\n",
        "- Much faster than for the validation set"
      ],
      "metadata": {
        "id": "aHMMmW0voZUD"
      }
    },
    {
      "cell_type": "markdown",
      "source": [
        "### Evaluation\n",
        "\n",
        "From now, we have only monitored the accuracy of the model while training it. </br>\n",
        "Let's now have a look at the **confusion matrix** for both the **training set** and the **validation set**.\n",
        "\n"
      ],
      "metadata": {
        "id": "G2qCDojYo6Oz"
      }
    },
    {
      "cell_type": "markdown",
      "source": [
        "#### Training set\n",
        "\n",
        "🛠 **EXERCICE :** Compute the predictions of the model on the training set.\n",
        "💡 Hint\n",
        "- you will have to loop over the training loader\n",
        "- use the `softmax` function to get the probability from the logits\n",
        "- get the argmax from the probabilities\n",
        "- stack the predictions in a list\n",
        "- at the end of the loop, you can use [`torch.cat`](https://pytorch.org/docs/stable/generated/torch.cat.html) to flatten the resulting list"
      ],
      "metadata": {
        "id": "JfOOTTrTppTH"
      }
    },
    {
      "cell_type": "code",
      "source": [
        "#YOUR ANSWER HERE\n",
        "def predictions(model, loader):\n",
        "    predictions = []\n",
        "    model.eval()\n",
        "    with torch.no_grad():\n",
        "        for images, _ in loader:\n",
        "            images = images.to(device)\n",
        "            outputs = model(images)\n",
        "            probabilities = F.softmax(outputs, dim=1)\n",
        "            _, preds = torch.max(probabilities, 1)\n",
        "            predictions.append(preds.cpu())\n",
        "\n",
        "    predictions = torch.cat(predictions, dim=0)\n",
        "    return predictions\n",
        "\n",
        "train_predictions = predictions(model, train_loader)"
      ],
      "metadata": {
        "id": "kYVt0l55rrPZ"
      },
      "execution_count": null,
      "outputs": []
    },
    {
      "cell_type": "markdown",
      "source": [
        "Now you computed the predictions, you can compute the confusion matrix of the predictions of your model on the training set.\n",
        "\n",
        "🛠 **EXERCICE :** Compute the confusion matrix of your model's predictions on the training set and load the results in a pandas `DataFrame`.\n",
        "💡 Hint\n",
        "- you can use the [`confusion_matrix`](https://scikit-learn.org/stable/modules/generated/sklearn.metrics.confusion_matrix.html) function in sklearn\n",
        "- use the `classes` list for readibility"
      ],
      "metadata": {
        "id": "sOEyZn-LqypB"
      }
    },
    {
      "cell_type": "code",
      "source": [
        "#YOUR ANSWER HERE\n",
        "from sklearn.metrics import confusion_matrix\n",
        "import pandas as pd\n",
        "\n",
        "train_labels = []\n",
        "for _, labels in train_loader:\n",
        "    train_labels.extend(labels.tolist())\n",
        "\n",
        "train_labels = torch.tensor(train_labels)\n",
        "\n",
        "cm_train = confusion_matrix(train_labels, train_predictions.numpy())\n",
        "\n",
        "# to df\n",
        "cm_train_df = pd.DataFrame(cm_train, index=classes, columns=classes)\n"
      ],
      "metadata": {
        "id": "V39a2CgHrsy5"
      },
      "execution_count": null,
      "outputs": []
    },
    {
      "cell_type": "markdown",
      "source": [
        "Run the following cell for plotting the results"
      ],
      "metadata": {
        "id": "ESPO88n9r-V5"
      }
    },
    {
      "cell_type": "code",
      "source": [
        "#Plotting the confusion matrix\n",
        "plt.figure(figsize=(10,10))\n",
        "sns.heatmap(cm_train_df, annot=True)\n",
        "plt.title('Confusion Matrix')\n",
        "plt.ylabel('Actual Values')\n",
        "plt.xlabel('Predicted Values')\n",
        "plt.show()"
      ],
      "metadata": {
        "colab": {
          "base_uri": "https://localhost:8080/",
          "height": 937
        },
        "id": "Y2NBoCeJri4M",
        "outputId": "3d15cf4e-02e5-4e90-c150-f93832a8098c"
      },
      "execution_count": null,
      "outputs": [
        {
          "output_type": "display_data",
          "data": {
            "text/plain": [
              "<Figure size 1000x1000 with 2 Axes>"
            ],
            "image/png": "[encoded data removed]"
          },
          "metadata": {}
        }
      ]
    },
    {
      "cell_type": "code",
      "source": [
        "#YOUR ANSWER HERE"
      ],
      "metadata": {
        "id": "bDA4tZ4QpXJR"
      },
      "execution_count": null,
      "outputs": []
    },
    {
      "cell_type": "markdown",
      "source": [
        "❓What are your interpretations?\n",
        "\n",
        "```python\n",
        "#YOUR ANSWER HERE\n",
        "```\n",
        "I would say that due to the uneven distribution of classes in the dataset, the model tends to predict either airplane or automobile (crowdest classes) for each instance, without attempting to predict the true class\n"
      ],
      "metadata": {
        "id": "dgaMd_CTsMMV"
      }
    },
    {
      "cell_type": "markdown",
      "source": [
        "#### Validation set (do the same on the validation set)\n",
        "\n",
        "🛠 **EXERCICE :** Compute the predictions of the model on the validation set. \\\n",
        "💡 Hint\n",
        "- you will have to loop over the validation loader\n",
        "- use the `softmax` function to get the probability from the logits\n",
        "- get the argmax from the probabilities\n",
        "- stack the predictions in a list\n",
        "- at the end of the loop, you can use [`torch.cat`](https://pytorch.org/docs/stable/generated/torch.cat.html) to flatten the resulting list\n",
        "\n",
        "Now you computed the predictions, you can compute the confusion matrix of the predictions of your model on the training set.\n",
        "\n",
        "🛠 **EXERCICE :** Compute the confusion matrix of your model's predictions on the validation set and load the results in a pandas `DataFrame`.\n",
        "💡 Hint\n",
        "- you can use the [`confusion_matrix`](https://scikit-learn.org/stable/modules/generated/sklearn.metrics.confusion_matrix.html) function in sklearn\n",
        "- use the `classes` list for readibility"
      ],
      "metadata": {
        "id": "X2gda4izsq2J"
      }
    },
    {
      "cell_type": "code",
      "source": [
        "#YOUR ANSWER HERE\n",
        "val_predictions = predictions(model, validation_loader)\n",
        "validation_labels = []\n",
        "for _, labels in validation_loader:\n",
        "    validation_labels.extend(labels.tolist())\n",
        "\n",
        "validation_labels = torch.tensor(validation_labels)\n",
        "\n",
        "cm_val = confusion_matrix(validation_labels, val_predictions.numpy())\n",
        "\n",
        "# to df\n",
        "cm_val_df = pd.DataFrame(cm_val, index=classes, columns=classes)\n"
      ],
      "metadata": {
        "id": "mCvjLRYUs6dV",
        "colab": {
          "base_uri": "https://localhost:8080/"
        },
        "outputId": "88badeaa-37fd-41f9-f1da-fa3700356814"
      },
      "execution_count": null,
      "outputs": [
        {
          "output_type": "stream",
          "name": "stderr",
          "text": [
            "/usr/local/lib/python3.10/dist-packages/torch/utils/data/dataloader.py:558: UserWarning: This DataLoader will create 40 worker processes in total. Our suggested max number of worker in current system is 2, which is smaller than what this DataLoader is going to create. Please be aware that excessive worker creation might get DataLoader running slow or even freeze, lower the worker number to avoid potential slowness/freeze if necessary.\n",
            "  warnings.warn(_create_warning_msg(\n"
          ]
        }
      ]
    },
    {
      "cell_type": "markdown",
      "source": [
        "❓Can you confirm your hypothesis?\n",
        "\n",
        "```python\n",
        "#YOUR ANSWER HERE\n",
        "```\n",
        "The same here, I would say that due to the uneven distribution of classes in the dataset, the model tends to predict either airplane or automobile (crowdest classes) for each instance, without attempting to predict the true class. It's even worst, when almost every prediction tend to be airplane\n"
      ],
      "metadata": {
        "id": "Mc3RgVQfs7Kh"
      }
    },
    {
      "cell_type": "code",
      "source": [
        "#YOUR ANSWER HERE"
      ],
      "metadata": {
        "id": "Ka_8AYsQmNUi"
      },
      "execution_count": null,
      "outputs": []
    },
    {
      "cell_type": "code",
      "source": [
        "\n",
        "plt.figure(figsize=(10,10))\n",
        "sns.heatmap(cm_val_df, annot=True)\n",
        "plt.title('Confusion Matrix')\n",
        "plt.ylabel('Actal Values')\n",
        "plt.xlabel('Predicted Values')\n",
        "plt.show()"
      ],
      "metadata": {
        "colab": {
          "base_uri": "https://localhost:8080/",
          "height": 937
        },
        "id": "gfo80Lz3jJhB",
        "outputId": "fe59013d-b3ee-48b8-9702-f0c9a8e4aed1"
      },
      "execution_count": null,
      "outputs": [
        {
          "output_type": "display_data",
          "data": {
            "text/plain": [
              "<Figure size 1000x1000 with 2 Axes>"
            ],
            "image/png": "[encoded data removed]"
          },
          "metadata": {}
        }
      ]
    },
    {
      "cell_type": "markdown",
      "source": [
        "The results are even worse on the validation set\n",
        "- the model is not capable of generelizing\n",
        "- now you understand the importance of choosing the right metrics to evaluate and validate a model"
      ],
      "metadata": {
        "id": "R1Q0ASYptb_J"
      }
    },
    {
      "cell_type": "markdown",
      "source": [
        "### Monitoring the training using the right metrics\n",
        "\n",
        "In this section, we will use the `torchmetrics` library to compute the several metric in order to monitor the training. </br>\n",
        "\n",
        "Run the following cell to install the `torchmetrics` package."
      ],
      "metadata": {
        "id": "KwzPWodpwLRp"
      }
    },
    {
      "cell_type": "code",
      "source": [
        "!pip install torchmetrics"
      ],
      "metadata": {
        "colab": {
          "base_uri": "https://localhost:8080/"
        },
        "id": "ZwEhyPgSwzFp",
        "outputId": "e22a5337-ac42-412c-d4ec-e49875e5c1c2"
      },
      "execution_count": 9,
      "outputs": [
        {
          "output_type": "stream",
          "name": "stdout",
          "text": [
            "Collecting torchmetrics\n",
            "  Downloading torchmetrics-1.3.2-py3-none-any.whl (841 kB)\n",
            "\u001b[2K     \u001b[90m━━━━━━━━━━━━━━━━━━━━━━━━━━━━━━━━━━━━━━━━\u001b[0m \u001b[32m841.5/841.5 kB\u001b[0m \u001b[31m4.6 MB/s\u001b[0m eta \u001b[36m0:00:00\u001b[0m\n",
            "\u001b[?25hRequirement already satisfied: numpy>1.20.0 in /usr/local/lib/python3.10/dist-packages (from torchmetrics) (1.25.2)\n",
            "Requirement already satisfied: packaging>17.1 in /usr/local/lib/python3.10/dist-packages (from torchmetrics) (24.0)\n",
            "Requirement already satisfied: torch>=1.10.0 in /usr/local/lib/python3.10/dist-packages (from torchmetrics) (2.2.1+cu121)\n",
            "Collecting lightning-utilities>=0.8.0 (from torchmetrics)\n",
            "  Downloading lightning_utilities-0.11.2-py3-none-any.whl (26 kB)\n",
            "Requirement already satisfied: setuptools in /usr/local/lib/python3.10/dist-packages (from lightning-utilities>=0.8.0->torchmetrics) (67.7.2)\n",
            "Requirement already satisfied: typing-extensions in /usr/local/lib/python3.10/dist-packages (from lightning-utilities>=0.8.0->torchmetrics) (4.10.0)\n",
            "Requirement already satisfied: filelock in /usr/local/lib/python3.10/dist-packages (from torch>=1.10.0->torchmetrics) (3.13.3)\n",
            "Requirement already satisfied: sympy in /usr/local/lib/python3.10/dist-packages (from torch>=1.10.0->torchmetrics) (1.12)\n",
            "Requirement already satisfied: networkx in /usr/local/lib/python3.10/dist-packages (from torch>=1.10.0->torchmetrics) (3.2.1)\n",
            "Requirement already satisfied: jinja2 in /usr/local/lib/python3.10/dist-packages (from torch>=1.10.0->torchmetrics) (3.1.3)\n",
            "Requirement already satisfied: fsspec in /usr/local/lib/python3.10/dist-packages (from torch>=1.10.0->torchmetrics) (2023.6.0)\n",
            "Collecting nvidia-cuda-nvrtc-cu12==12.1.105 (from torch>=1.10.0->torchmetrics)\n",
            "  Downloading nvidia_cuda_nvrtc_cu12-12.1.105-py3-none-manylinux1_x86_64.whl (23.7 MB)\n",
            "\u001b[2K     \u001b[90m━━━━━━━━━━━━━━━━━━━━━━━━━━━━━━━━━━━━━━━━\u001b[0m \u001b[32m23.7/23.7 MB\u001b[0m \u001b[31m6.1 MB/s\u001b[0m eta \u001b[36m0:00:00\u001b[0m\n",
            "\u001b[?25hCollecting nvidia-cuda-runtime-cu12==12.1.105 (from torch>=1.10.0->torchmetrics)\n",
            "  Downloading nvidia_cuda_runtime_cu12-12.1.105-py3-none-manylinux1_x86_64.whl (823 kB)\n",
            "\u001b[2K     \u001b[90m━━━━━━━━━━━━━━━━━━━━━━━━━━━━━━━━━━━━━━━━\u001b[0m \u001b[32m823.6/823.6 kB\u001b[0m \u001b[31m6.7 MB/s\u001b[0m eta \u001b[36m0:00:00\u001b[0m\n",
            "\u001b[?25hCollecting nvidia-cuda-cupti-cu12==12.1.105 (from torch>=1.10.0->torchmetrics)\n",
            "  Downloading nvidia_cuda_cupti_cu12-12.1.105-py3-none-manylinux1_x86_64.whl (14.1 MB)\n",
            "\u001b[2K     \u001b[90m━━━━━━━━━━━━━━━━━━━━━━━━━━━━━━━━━━━━━━━━\u001b[0m \u001b[32m14.1/14.1 MB\u001b[0m \u001b[31m7.3 MB/s\u001b[0m eta \u001b[36m0:00:00\u001b[0m\n",
            "\u001b[?25hCollecting nvidia-cudnn-cu12==8.9.2.26 (from torch>=1.10.0->torchmetrics)\n",
            "  Downloading nvidia_cudnn_cu12-8.9.2.26-py3-none-manylinux1_x86_64.whl (731.7 MB)\n",
            "\u001b[2K     \u001b[90m━━━━━━━━━━━━━━━━━━━━━━━━━━━━━━━━━━━━━━━━\u001b[0m \u001b[32m731.7/731.7 MB\u001b[0m \u001b[31m1.7 MB/s\u001b[0m eta \u001b[36m0:00:00\u001b[0m\n",
            "\u001b[?25hCollecting nvidia-cublas-cu12==12.1.3.1 (from torch>=1.10.0->torchmetrics)\n",
            "  Downloading nvidia_cublas_cu12-12.1.3.1-py3-none-manylinux1_x86_64.whl (410.6 MB)\n",
            "\u001b[2K     \u001b[90m━━━━━━━━━━━━━━━━━━━━━━━━━━━━━━━━━━━━━━━━\u001b[0m \u001b[32m410.6/410.6 MB\u001b[0m \u001b[31m2.9 MB/s\u001b[0m eta \u001b[36m0:00:00\u001b[0m\n",
            "\u001b[?25hCollecting nvidia-cufft-cu12==11.0.2.54 (from torch>=1.10.0->torchmetrics)\n",
            "  Downloading nvidia_cufft_cu12-11.0.2.54-py3-none-manylinux1_x86_64.whl (121.6 MB)\n",
            "\u001b[2K     \u001b[90m━━━━━━━━━━━━━━━━━━━━━━━━━━━━━━━━━━━━━━━━\u001b[0m \u001b[32m121.6/121.6 MB\u001b[0m \u001b[31m7.5 MB/s\u001b[0m eta \u001b[36m0:00:00\u001b[0m\n",
            "\u001b[?25hCollecting nvidia-curand-cu12==10.3.2.106 (from torch>=1.10.0->torchmetrics)\n",
            "  Downloading nvidia_curand_cu12-10.3.2.106-py3-none-manylinux1_x86_64.whl (56.5 MB)\n",
            "\u001b[2K     \u001b[90m━━━━━━━━━━━━━━━━━━━━━━━━━━━━━━━━━━━━━━━━\u001b[0m \u001b[32m56.5/56.5 MB\u001b[0m \u001b[31m9.2 MB/s\u001b[0m eta \u001b[36m0:00:00\u001b[0m\n",
            "\u001b[?25hCollecting nvidia-cusolver-cu12==11.4.5.107 (from torch>=1.10.0->torchmetrics)\n",
            "  Downloading nvidia_cusolver_cu12-11.4.5.107-py3-none-manylinux1_x86_64.whl (124.2 MB)\n",
            "\u001b[2K     \u001b[90m━━━━━━━━━━━━━━━━━━━━━━━━━━━━━━━━━━━━━━━━\u001b[0m \u001b[32m124.2/124.2 MB\u001b[0m \u001b[31m5.8 MB/s\u001b[0m eta \u001b[36m0:00:00\u001b[0m\n",
            "\u001b[?25hCollecting nvidia-cusparse-cu12==12.1.0.106 (from torch>=1.10.0->torchmetrics)\n",
            "  Downloading nvidia_cusparse_cu12-12.1.0.106-py3-none-manylinux1_x86_64.whl (196.0 MB)\n",
            "\u001b[2K     \u001b[90m━━━━━━━━━━━━━━━━━━━━━━━━━━━━━━━━━━━━━━━━\u001b[0m \u001b[32m196.0/196.0 MB\u001b[0m \u001b[31m6.1 MB/s\u001b[0m eta \u001b[36m0:00:00\u001b[0m\n",
            "\u001b[?25hCollecting nvidia-nccl-cu12==2.19.3 (from torch>=1.10.0->torchmetrics)\n",
            "  Downloading nvidia_nccl_cu12-2.19.3-py3-none-manylinux1_x86_64.whl (166.0 MB)\n",
            "\u001b[2K     \u001b[90m━━━━━━━━━━━━━━━━━━━━━━━━━━━━━━━━━━━━━━━━\u001b[0m \u001b[32m166.0/166.0 MB\u001b[0m \u001b[31m6.8 MB/s\u001b[0m eta \u001b[36m0:00:00\u001b[0m\n",
            "\u001b[?25hCollecting nvidia-nvtx-cu12==12.1.105 (from torch>=1.10.0->torchmetrics)\n",
            "  Downloading nvidia_nvtx_cu12-12.1.105-py3-none-manylinux1_x86_64.whl (99 kB)\n",
            "\u001b[2K     \u001b[90m━━━━━━━━━━━━━━━━━━━━━━━━━━━━━━━━━━━━━━━━\u001b[0m \u001b[32m99.1/99.1 kB\u001b[0m \u001b[31m11.7 MB/s\u001b[0m eta \u001b[36m0:00:00\u001b[0m\n",
            "\u001b[?25hRequirement already satisfied: triton==2.2.0 in /usr/local/lib/python3.10/dist-packages (from torch>=1.10.0->torchmetrics) (2.2.0)\n",
            "Collecting nvidia-nvjitlink-cu12 (from nvidia-cusolver-cu12==11.4.5.107->torch>=1.10.0->torchmetrics)\n",
            "  Downloading nvidia_nvjitlink_cu12-12.4.99-py3-none-manylinux2014_x86_64.whl (21.1 MB)\n",
            "\u001b[2K     \u001b[90m━━━━━━━━━━━━━━━━━━━━━━━━━━━━━━━━━━━━━━━━\u001b[0m \u001b[32m21.1/21.1 MB\u001b[0m \u001b[31m31.9 MB/s\u001b[0m eta \u001b[36m0:00:00\u001b[0m\n",
            "\u001b[?25hRequirement already satisfied: MarkupSafe>=2.0 in /usr/local/lib/python3.10/dist-packages (from jinja2->torch>=1.10.0->torchmetrics) (2.1.5)\n",
            "Requirement already satisfied: mpmath>=0.19 in /usr/local/lib/python3.10/dist-packages (from sympy->torch>=1.10.0->torchmetrics) (1.3.0)\n",
            "Installing collected packages: nvidia-nvtx-cu12, nvidia-nvjitlink-cu12, nvidia-nccl-cu12, nvidia-curand-cu12, nvidia-cufft-cu12, nvidia-cuda-runtime-cu12, nvidia-cuda-nvrtc-cu12, nvidia-cuda-cupti-cu12, nvidia-cublas-cu12, lightning-utilities, nvidia-cusparse-cu12, nvidia-cudnn-cu12, nvidia-cusolver-cu12, torchmetrics\n",
            "Successfully installed lightning-utilities-0.11.2 nvidia-cublas-cu12-12.1.3.1 nvidia-cuda-cupti-cu12-12.1.105 nvidia-cuda-nvrtc-cu12-12.1.105 nvidia-cuda-runtime-cu12-12.1.105 nvidia-cudnn-cu12-8.9.2.26 nvidia-cufft-cu12-11.0.2.54 nvidia-curand-cu12-10.3.2.106 nvidia-cusolver-cu12-11.4.5.107 nvidia-cusparse-cu12-12.1.0.106 nvidia-nccl-cu12-2.19.3 nvidia-nvjitlink-cu12-12.4.99 nvidia-nvtx-cu12-12.1.105 torchmetrics-1.3.2\n"
          ]
        }
      ]
    },
    {
      "cell_type": "markdown",
      "source": [
        "The objective of this section is to monitor the training with several metrics using the `torchmetrics` package. </br>\n",
        "\n",
        "We will use the following metrics\n",
        "- accuracy : torchmetrics.classification.MulticlassAccuracy\n",
        "- precision : torchmetrics.classification.MulticlassPrecision\n",
        "- recall : torchmetrics.classification.MulticlassRecall\n",
        "- F1-score : torchmetrics.classification.MulticlassF1Score\n",
        "\n",
        "Do not hesitate to use the [torchmetrics documentation](https://torchmetrics.readthedocs.io/en/latest/) in this part.\n",
        "\n",
        "Here is an example from the documentation of how it works\n",
        "\n"
      ],
      "metadata": {
        "id": "MHafl32T0tIE"
      }
    },
    {
      "cell_type": "code",
      "source": [
        "import torch\n",
        "# import our library\n",
        "import torchmetrics\n",
        "\n",
        "# initialize metric\n",
        "metric = torchmetrics.Accuracy(task=\"multiclass\", num_classes=5)\n",
        "\n",
        "n_batches = 10\n",
        "for i in range(n_batches):\n",
        "    # simulate a classification problem\n",
        "    preds = torch.randn(10, 5).softmax(dim=-1)\n",
        "    target = torch.randint(5, (10,))\n",
        "    # metric on current batch\n",
        "    acc = metric(preds, target)\n",
        "    print(f\"Accuracy on batch {i}: {acc}\")\n",
        "\n",
        "# metric on all batches using custom accumulation\n",
        "acc = metric.compute()\n",
        "print(f\"Accuracy on all data: {acc}\")\n",
        "\n",
        "# Reseting internal state such that metric ready for new data\n",
        "metric.reset()"
      ],
      "metadata": {
        "colab": {
          "base_uri": "https://localhost:8080/"
        },
        "id": "zbyRXnn86auT",
        "outputId": "46770320-0269-4864-921c-c6f453ed0a29"
      },
      "execution_count": null,
      "outputs": [
        {
          "output_type": "stream",
          "name": "stdout",
          "text": [
            "Accuracy on batch 0: 0.10000000149011612\n",
            "Accuracy on batch 1: 0.0\n",
            "Accuracy on batch 2: 0.0\n",
            "Accuracy on batch 3: 0.10000000149011612\n",
            "Accuracy on batch 4: 0.10000000149011612\n",
            "Accuracy on batch 5: 0.30000001192092896\n",
            "Accuracy on batch 6: 0.30000001192092896\n",
            "Accuracy on batch 7: 0.20000000298023224\n",
            "Accuracy on batch 8: 0.10000000149011612\n",
            "Accuracy on batch 9: 0.20000000298023224\n",
            "Accuracy on all data: 0.14000000059604645\n"
          ]
        }
      ]
    },
    {
      "cell_type": "markdown",
      "source": [
        "You can see that the metric object `accumulate` the values over the batches and `compute` the average at the end of the loop. </br>\n",
        "⚠️ it is very important not to forget the `.reset()` in order to reset the accumulation process.\n",
        "\n",
        "Moreover, you can use a `MetricCollection` object to store all of your metrics in a same object.\n",
        "Here is an example from the [official documentation](https://torchmetrics.readthedocs.io/en/stable/pages/overview.html#metriccollection) :"
      ],
      "metadata": {
        "id": "-Tp1F4GR2JSR"
      }
    },
    {
      "cell_type": "code",
      "source": [
        "from torchmetrics import MetricCollection\n",
        "from torchmetrics.classification import MulticlassAccuracy, MulticlassPrecision, MulticlassRecall\n",
        "target = torch.tensor([0, 2, 0, 2, 0, 1, 0, 2])\n",
        "preds = torch.tensor([2, 1, 2, 0, 1, 2, 2, 2])\n",
        "metric_collection = MetricCollection([\n",
        "    MulticlassAccuracy(num_classes=3, average=\"micro\"),\n",
        "    MulticlassPrecision(num_classes=3, average=\"macro\"),\n",
        "    MulticlassRecall(num_classes=3, average=\"macro\")\n",
        "])\n",
        "print(metric_collection(preds, target))"
      ],
      "metadata": {
        "colab": {
          "base_uri": "https://localhost:8080/"
        },
        "id": "69xKS3uc24cN",
        "outputId": "f4c2dffd-4639-444c-8677-57efdb76d8b9"
      },
      "execution_count": null,
      "outputs": [
        {
          "output_type": "stream",
          "name": "stdout",
          "text": [
            "{'MulticlassAccuracy': tensor(0.1250), 'MulticlassPrecision': tensor(0.0667), 'MulticlassRecall': tensor(0.1111)}\n"
          ]
        }
      ]
    },
    {
      "cell_type": "markdown",
      "source": [
        "🛠 **EXERCICE :** Using a `MetricCollection` object from `torchmetrics`, change the code of the `validate` function in order to monitor the evaluation using the following metrics\n",
        "- accuracy\n",
        "- recall\n",
        "- precision\n",
        "- F1-Score\n",
        "\n",
        "Log you metrics in `TensorBoard`\n",
        "\n",
        "and train your model"
      ],
      "metadata": {
        "id": "HldbDOqE3N7V"
      }
    },
    {
      "cell_type": "code",
      "source": [
        "#YOUR ANSWER HERE\n",
        "from torchmetrics import MetricCollection\n",
        "from torchmetrics.classification import MulticlassAccuracy, MulticlassPrecision, MulticlassRecall, MulticlassF1Score\n",
        "\n",
        "@torch.no_grad()\n",
        "def validate(model, loader, loss_vector, accuracy_vector, step=\"Validation\", writer=None):\n",
        "    model.eval()\n",
        "    val_loss = 0.0\n",
        "\n",
        "    metrics = MetricCollection({\n",
        "        'accuracy': MulticlassAccuracy(num_classes=10, average=\"micro\").to(device),\n",
        "        'precision': MulticlassPrecision(num_classes=10, average=\"macro\").to(device),\n",
        "        'recall': MulticlassRecall(num_classes=10, average=\"macro\").to(device),\n",
        "        'f1': MulticlassF1Score(num_classes=10, average=\"macro\").to(device)\n",
        "    })\n",
        "\n",
        "    for images, labels in loader:\n",
        "        images, labels = images.to(device), labels.to(device)\n",
        "        outputs = model(images)\n",
        "        loss = criterion(outputs, labels)\n",
        "        val_loss += loss.item()\n",
        "\n",
        "        metrics.update(outputs, labels)\n",
        "\n",
        "    accuracy = metrics['accuracy'].compute()\n",
        "    recall = metrics['recall'].compute()\n",
        "    precision = metrics['precision'].compute()\n",
        "    f1_score = metrics['f1'].compute()\n",
        "\n",
        "    val_loss /= len(loader)\n",
        "    print(f'{step} loss: {val_loss:.6f}, Accuracy: {accuracy:.2f}%, Precision: {precision:.2f}, Recall: {recall:.2f}, F1-Score: {f1_score:.2f}')\n",
        "\n",
        "    if writer:\n",
        "        writer.add_scalar(f'{step} loss', val_loss)\n",
        "        writer.add_scalar(f'{step} accuracy', accuracy)\n",
        "        writer.add_scalar(f'{step} precision', precision)\n",
        "        writer.add_scalar(f'{step} recall', recall)\n",
        "        writer.add_scalar(f'{step} F1-score', f1_score)\n",
        "\n",
        "    loss_vector.append(val_loss)\n",
        "    accuracy_vector.append(accuracy)\n",
        "    return val_loss, accuracy\n"
      ],
      "metadata": {
        "id": "EXoggGO0mQ0c"
      },
      "execution_count": 20,
      "outputs": []
    },
    {
      "cell_type": "code",
      "source": [
        "%load_ext tensorboard"
      ],
      "metadata": {
        "id": "h1bAUnLJ5rIO"
      },
      "execution_count": null,
      "outputs": []
    },
    {
      "cell_type": "code",
      "source": [
        "%tensorboard --logdir runs"
      ],
      "metadata": {
        "id": "6imKR3Lk5rO3"
      },
      "execution_count": null,
      "outputs": []
    },
    {
      "cell_type": "code",
      "source": [
        "#YOUR ANSWER HERE\n",
        "writer = SummaryWriter(\"runs/cifat-lt-torchmatrics\")\n",
        "\n",
        "optimizer = optim.SGD(model.parameters(), lr=0.05, momentum=0.9)\n",
        "epochs = 5\n",
        "\n",
        "model = model.to(device)\n",
        "\n",
        "criterion = nn.CrossEntropyLoss()\n",
        "\n",
        "loss_training, acc_training = [], []\n",
        "loss_validation, acc_validation = [], []\n",
        "\n",
        "for epoch in range(1, epochs + 1):\n",
        "    train(model,train_loader, epoch, optimizer, writer=writer)\n",
        "\n",
        "    validate(model, train_loader, loss_training, acc_training, \"Training\", writer=writer)\n",
        "    validate(model, validation_loader, loss_validation, acc_validation, \"Validation\", writer=writer)"
      ],
      "metadata": {
        "id": "9ZUZ3IZamXgw",
        "colab": {
          "base_uri": "https://localhost:8080/"
        },
        "outputId": "b4341f3c-b9b7-4551-814f-c466ae0601fc"
      },
      "execution_count": 23,
      "outputs": [
        {
          "output_type": "stream",
          "name": "stdout",
          "text": [
            "Train Epoch: 1 [0/12406 (0%)]\tLoss: 0.478922\n",
            "Training loss: 0.567860, Accuracy: 0.81%, Precision: 0.51, Recall: 0.46, F1-Score: 0.46\n",
            "Validation loss: 1.888922, Accuracy: 0.45%, Precision: 0.49, Recall: 0.45, F1-Score: 0.37\n",
            "Train Epoch: 2 [0/12406 (0%)]\tLoss: 0.426537\n",
            "Training loss: 0.510686, Accuracy: 0.83%, Precision: 0.59, Recall: 0.47, F1-Score: 0.49\n",
            "Validation loss: 2.169064, Accuracy: 0.46%, Precision: 0.48, Recall: 0.46, F1-Score: 0.39\n",
            "Train Epoch: 3 [0/12406 (0%)]\tLoss: 0.530558\n",
            "Training loss: 0.468460, Accuracy: 0.85%, Precision: 0.60, Recall: 0.52, F1-Score: 0.54\n",
            "Validation loss: 1.714152, Accuracy: 0.51%, Precision: 0.49, Recall: 0.51, F1-Score: 0.46\n",
            "Train Epoch: 4 [0/12406 (0%)]\tLoss: 0.402977\n",
            "Training loss: 0.519210, Accuracy: 0.83%, Precision: 0.56, Recall: 0.54, F1-Score: 0.54\n",
            "Validation loss: 1.804638, Accuracy: 0.52%, Precision: 0.47, Recall: 0.52, F1-Score: 0.45\n",
            "Train Epoch: 5 [0/12406 (0%)]\tLoss: 0.348882\n",
            "Training loss: 0.466567, Accuracy: 0.85%, Precision: 0.61, Recall: 0.51, F1-Score: 0.54\n",
            "Validation loss: 2.016512, Accuracy: 0.49%, Precision: 0.50, Recall: 0.49, F1-Score: 0.43\n"
          ]
        }
      ]
    },
    {
      "cell_type": "markdown",
      "source": [
        "Now you can properly monitor the training of your model using the appropriate metrics.\n",
        "You can see that the overall accuracy is good on your training set."
      ],
      "metadata": {
        "id": "zG66xuc-8ist"
      }
    },
    {
      "cell_type": "markdown",
      "source": [
        "### Training a CNN for classification on an imbalanced dataset\n",
        "\n",
        "By now you should figure out that your classification model is not good enough on misrepresented classes.\n",
        "\n",
        "To address the issue of imbalanced datasets, several strategies can be adopted. These strategies aim to minimize the impact of class imbalance on the model's performance. The following strategies can be adopted :\n",
        "\n",
        "- **Class Weighting**: Adjust the weights for different classes to compensate for the imbalance. This can be done by assigning a higher weight to the underrepresented classes.\n",
        "\n",
        "- **Undersampling and Oversampling**:\n",
        "  - Undersampling: Reduce the number of examples in the overrepresented classes to match the number of examples in the underrepresented classes.\n",
        "  - Oversampling: Increase the number of examples in the underrepresented classes by replicating them until they are balanced with the overrepresented classes. A popular technique is SMOTE (Synthetic Minority Over-sampling Technique), although it's more commonly used with traditional machine learning algorithms.\n",
        "- **Data Augmentation**: Generate new training data by applying transformations (such as rotation, shift, zoom, etc.) to the images of the underrepresented class. This can help increase the number of training examples for the underrepresented classes without collecting new data.\n",
        "\n",
        "\n",
        "\n",
        "---\n",
        "\n",
        "\n",
        "In this section, you will be asked to train a CNN using both a class weighting strategy and data augementation to obtain better performance.\n"
      ],
      "metadata": {
        "id": "qgLZ51rfLc1a"
      }
    },
    {
      "cell_type": "markdown",
      "source": [
        "PyTorch allows doing this easily by using the weight parameter of some loss criteria, like torch.nn.CrossEntropyLoss.\n",
        "\n",
        "🛠 **EXERCICE :** Using the same previous CNN architecture, modify your training in order to adopt a class weighting strategy. Also, try several data augmentation strategies and\n",
        "\n",
        "💡 **Hint :**\n",
        "- See pytorch documentation of [torch.nn.CrossEntropyLoss](https://pytorch.org/docs/stable/generated/torch.nn.CrossEntropyLoss.html)\n",
        "- See scikit-learn documentation for computing class weights [compute_class_weight](https://scikit-learn.org/stable/modules/generated/sklearn.utils.class_weight.compute_class_weight.html)\n",
        "\n"
      ],
      "metadata": {
        "id": "MV3zISBYMizU"
      }
    },
    {
      "cell_type": "code",
      "source": [
        "#YOUR ANSWER HERE\n",
        "# Class Weighting\n",
        "from sklearn.utils.class_weight import compute_class_weight\n",
        "\n",
        "writer = SummaryWriter(\"runs/cifat-lt-cw\")\n",
        "\n",
        "\n",
        "class_weights = compute_class_weight(class_weight=\"balanced\", classes=np.unique(classes), y=classes)\n",
        "class_weights = torch.tensor(class_weights, dtype=torch.float32).to(device)\n",
        "\n",
        "\n",
        "criterion = nn.CrossEntropyLoss(weight=class_weights)\n",
        "\n",
        "optimizer = optim.SGD(model.parameters(), lr=0.05, momentum=0.9)\n",
        "epochs = 5\n",
        "\n",
        "model = model.to(device)\n",
        "\n",
        "loss_training, acc_training = [], []\n",
        "loss_validation, acc_validation = [], []\n",
        "\n",
        "for epoch in range(1, epochs + 1):\n",
        "    train(model,train_loader, epoch, optimizer, writer=writer)\n",
        "\n",
        "    validate(model, train_loader, loss_training, acc_training, \"Training\", writer=writer)\n",
        "    validate(model, validation_loader, loss_validation, acc_validation, \"Validation\", writer=writer)\n"
      ],
      "metadata": {
        "id": "epDNxk53MMxB",
        "colab": {
          "base_uri": "https://localhost:8080/"
        },
        "outputId": "32c26238-1d12-49fd-b5bb-78cb23deeafa"
      },
      "execution_count": 33,
      "outputs": [
        {
          "output_type": "stream",
          "name": "stdout",
          "text": [
            "Files already downloaded and verified\n",
            "Files already downloaded and verified\n"
          ]
        },
        {
          "output_type": "stream",
          "name": "stderr",
          "text": [
            "/usr/local/lib/python3.10/dist-packages/torch/utils/data/dataloader.py:558: UserWarning: This DataLoader will create 40 worker processes in total. Our suggested max number of worker in current system is 2, which is smaller than what this DataLoader is going to create. Please be aware that excessive worker creation might get DataLoader running slow or even freeze, lower the worker number to avoid potential slowness/freeze if necessary.\n",
            "  warnings.warn(_create_warning_msg(\n"
          ]
        },
        {
          "output_type": "stream",
          "name": "stdout",
          "text": [
            "Train Epoch: 1 [0/12406 (0%)]\tLoss: 2.410413\n",
            "Training loss: 0.821395, Accuracy: 0.74%, Precision: 0.32, Recall: 0.36, F1-Score: 0.33\n",
            "Validation loss: 2.664986, Accuracy: 0.35%, Precision: 0.18, Recall: 0.35, F1-Score: 0.24\n",
            "Train Epoch: 2 [0/12406 (0%)]\tLoss: 0.904690\n",
            "Training loss: 0.765206, Accuracy: 0.76%, Precision: 0.43, Recall: 0.37, F1-Score: 0.37\n",
            "Validation loss: 2.213610, Accuracy: 0.38%, Precision: 0.35, Recall: 0.38, F1-Score: 0.27\n",
            "Train Epoch: 3 [0/12406 (0%)]\tLoss: 0.737955\n",
            "Training loss: 0.680541, Accuracy: 0.78%, Precision: 0.48, Recall: 0.41, F1-Score: 0.41\n",
            "Validation loss: 2.322076, Accuracy: 0.41%, Precision: 0.37, Recall: 0.41, F1-Score: 0.33\n",
            "Train Epoch: 4 [0/12406 (0%)]\tLoss: 0.751007\n",
            "Training loss: 0.663113, Accuracy: 0.79%, Precision: 0.48, Recall: 0.45, F1-Score: 0.44\n",
            "Validation loss: 1.851218, Accuracy: 0.45%, Precision: 0.37, Recall: 0.45, F1-Score: 0.36\n",
            "Train Epoch: 5 [0/12406 (0%)]\tLoss: 0.558914\n",
            "Training loss: 0.544898, Accuracy: 0.82%, Precision: 0.52, Recall: 0.46, F1-Score: 0.47\n",
            "Validation loss: 2.088669, Accuracy: 0.45%, Precision: 0.39, Recall: 0.45, F1-Score: 0.37\n"
          ]
        }
      ]
    },
    {
      "cell_type": "code",
      "source": [],
      "metadata": {
        "id": "Ut8SsNWXbeGo"
      },
      "execution_count": null,
      "outputs": []
    }
  ]
}